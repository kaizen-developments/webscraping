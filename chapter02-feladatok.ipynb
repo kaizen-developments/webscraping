{
 "cells": [
  {
   "cell_type": "code",
   "execution_count": 1,
   "metadata": {},
   "outputs": [
    {
     "name": "stdout",
     "output_type": "stream",
     "text": [
      "It Worked!\n"
     ]
    }
   ],
   "source": [
    "#Initialize a bs object with a stackoverflow website!\n",
    "\n",
    "from urllib.request import urlopen\n",
    "from urllib.error import HTTPError\n",
    "from urllib.error import URLError\n",
    "\n",
    "from bs4 import BeautifulSoup\n",
    "#Try to open the website, except when HTTPError or ERLError occurs, in the later case print the indicator of the error!\n",
    "try:\n",
    "    html = urlopen('http://www.pythonscraping.com/pages/page1.html')\n",
    "except HTTPError as e:\n",
    "    print(e)\n",
    "except URLError as e:\n",
    "    print('The server could not be found!')\n",
    "else:\n",
    "    print('It Worked!')\n",
    "    bs = BeautifulSoup(html.read(), 'html.parser')"
   ]
  },
  {
   "cell_type": "code",
   "execution_count": 2,
   "metadata": {},
   "outputs": [
    {
     "data": {
      "text/plain": [
       "<title>A Useful Page</title>"
      ]
     },
     "execution_count": 2,
     "metadata": {},
     "output_type": "execute_result"
    }
   ],
   "source": [
    "#Navigate the title of the bs object manually!\n",
    "\n",
    "bs.title"
   ]
  },
  {
   "cell_type": "code",
   "execution_count": 3,
   "metadata": {},
   "outputs": [],
   "source": [
    "#Find all tags in which the attribute class equals green with the \n",
    "# description of html elements described in the dictionary below!\n",
    "attributes = {'class' : 'green'}\n",
    "\n"
   ]
  },
  {
   "cell_type": "code",
   "execution_count": 4,
   "metadata": {},
   "outputs": [
    {
     "name": "stdout",
     "output_type": "stream",
     "text": [
      "True\n"
     ]
    }
   ],
   "source": [
    "#Create a function, that decides whether a tag is a descendant of another tag, aswell as one that decides whether a tag is children of another tag in a bs object!\n",
    "\n",
    "from bs4 import Tag\n",
    "def Children_of_in(x : Tag, y : Tag, bs : BeautifulSoup) -> bool :\n",
    "    return x in bs.children and y in bs.children\n",
    "def Descendant_of_in(x : Tag, y : Tag, bs : BeautifulSoup) -> bool :\n",
    "    return x in bs.descendants and y in bs.descendants\n",
    "\n",
    "print(Descendant_of_in(bs.body.h1, bs.body, bs) == True)\n",
    "\n",
    "#Bonus: Prove, that all childrens are descendants!"
   ]
  },
  {
   "cell_type": "code",
   "execution_count": 15,
   "metadata": {},
   "outputs": [],
   "source": [
    "#Implement a function that initializes a BeautifulSoup object safely from a html link!\n",
    "\n",
    "from urllib.request import urlopen\n",
    "from urllib.error import HTTPError\n",
    "from urllib.error import URLError\n",
    "\n",
    "from bs4 import BeautifulSoup\n",
    "\n",
    "def initialize_html_safely(address : str):\n",
    "    try:\n",
    "        html = urlopen(address)\n",
    "    except HTTPError as e:\n",
    "        print(e)\n",
    "    except URLError as e:\n",
    "        print('The server could not be found!')\n",
    "    else:\n",
    "        print('Html initialized safely!')\n",
    "        return html\n",
    "\n",
    "def create_a_bs_object_from_link(link : str):\n",
    "    html = initialize_html_safely(link) #TODO: Figure out what occurs when errors are thrown by the function!\n",
    "    bs = BeautifulSoup(html.read(), \"html5lib\")\n",
    "    return bs"
   ]
  },
  {
   "cell_type": "code",
   "execution_count": 16,
   "metadata": {},
   "outputs": [
    {
     "name": "stdout",
     "output_type": "stream",
     "text": [
      "Html initialized safely!\n",
      "../img/gifts/logo.jpg\n",
      "../img/gifts/img1.jpg\n",
      "../img/gifts/img2.jpg\n",
      "../img/gifts/img3.jpg\n",
      "../img/gifts/img4.jpg\n",
      "../img/gifts/img6.jpg\n"
     ]
    }
   ],
   "source": [
    "#Find the source location of an image!\n",
    "\n",
    "bs = create_a_bs_object_from_link('http://www.pythonscraping.com/pages/page3.html')\n",
    "\n",
    "#Find the image tags in the bs object!\n",
    "image_tags_in_bs = bs.find_all('img')\n",
    "\n",
    "#Print the source locations of every image in the images found!\n",
    "\n",
    "for image_tag in image_tags_in_bs:\n",
    "    print(image_tag.attrs['src'])"
   ]
  }
 ],
 "metadata": {
  "kernelspec": {
   "display_name": "Python 3",
   "language": "python",
   "name": "python3"
  },
  "language_info": {
   "codemirror_mode": {
    "name": "ipython",
    "version": 3
   },
   "file_extension": ".py",
   "mimetype": "text/x-python",
   "name": "python",
   "nbconvert_exporter": "python",
   "pygments_lexer": "ipython3",
   "version": "3.8.10"
  },
  "orig_nbformat": 4
 },
 "nbformat": 4,
 "nbformat_minor": 2
}
