{
 "cells": [
  {
   "cell_type": "code",
   "execution_count": null,
   "metadata": {},
   "outputs": [],
   "source": [
    "#Transform expressions in the book to problems!"
   ]
  },
  {
   "cell_type": "code",
   "execution_count": null,
   "metadata": {},
   "outputs": [],
   "source": [
    "#Formulate a function using xpath that retrieving text content including text in child tags (for example, an <a> tag inside a block of text)!"
   ]
  },
  {
   "cell_type": "code",
   "execution_count": null,
   "metadata": {},
   "outputs": [],
   "source": [
    "#Formulate a function using CSSSelector that retrieves text content excluding text within child tags!"
   ]
  },
  {
   "cell_type": "code",
   "execution_count": null,
   "metadata": {},
   "outputs": [],
   "source": [
    "#Formulate a function that uses tokenization to set apart a text into parts into which we are interested, and into which we are not interested, using a function, and parameters/patterns.\n",
    "#Tokenization does not always result in a partition, since tokenization might leave out elements from the original text.\n",
    "from functools import partial\n",
    "\n",
    "def tokenizeText(text, tool, patterns_or_parameters : dict) -> list[str]:\n",
    "    return partial(tool, **patterns_or_parameters)(text)\n",
    "\n",
    "tokenizeText(\"\"\"<link rel=\"apple-touch-icon\" sizes=\"180x180\" href=\"https://cdn.oaistatic.com/_next/static/media/apple-touch-icon.59f2e898.png\"/>\"\"\",tool1,pattern1) == \\\n",
    "[\"apple-touch-icon\", \"180x180\", \"https://cdn.oaistatic.com/_next/static/media/apple-touch-icon.59f2e898.png\"]\n",
    "\n",
    "tokenizeText(\n",
    "\"\"\"\n",
    "<span>Search</span>\n",
    "\t</a>\n",
    "\t<div class=\"vector-typeahead-search-container\">\n",
    "\t\t<div class=\"cdx-typeahead-search cdx-typeahead-search--show-thumbnail cdx-typeahead-search--auto-expand-width\">\n",
    "\t\t\t<form action=\"/w/index.php\" id=\"searchform\" class=\"cdx-search-input cdx-search-input--has-end-button\">\n",
    "\t\t\t\t<div id=\"simpleSearch\" class=\"cdx-search-input__input-wrapper\"  data-search-loc=\"header-moved\">\n",
    "\t\t\t\t\t<div class=\"cdx-text-input cdx-text-input--has-start-icon\">\n",
    "\t\t\t\t\t\t<input\n",
    "\t\t\t\t\t\t\tclass=\"cdx-text-input__input\"\n",
    "\t\t\t\t\t\t\t type=\"search\" name=\"search\" placeholder=\"Search Wikipedia\" aria-label=\"Search Wikipedia\" autocapitalize=\"sentences\" title=\"Search Wikipedia [f]\" accesskey=\"f\" id=\"searchInput\"\n",
    "\t\t\t\t\t\t\t>\n",
    "\t\t\t\t\t\t<span class=\"cdx-text-input__icon cdx-text-input__start-icon\"></span>\n",
    "\t\t\t\t\t</div>\n",
    "\t\t\t\t\t<input type=\"hidden\" name=\"title\" value=\"Special:Search\">\n",
    "\t\t\t\t</div>\n",
    "\t\t\t\t<button class=\"cdx-button cdx-search-input__end-button\">Search</button>\n",
    "\t\t\t</form>\n",
    "\t\t</div>\n",
    "\t</div>\n",
    "</div>\n",
    "\"\"\",\n",
    "tool2, pattern2) == [\"<span></span>\", \"</a>\", \"<div><div><form><div><div><input><span></span>\", \"</div>\", \"<input></div>\", \"<button></button>\", \"</form>\", \"</div>\", \"</div>\", \"</div>\"]\n",
    "\n",
    "tokenizeText(\"\"\"<div class=\"markdown prose w-full break-words dark:prose-invert light\"><p>\n",
    "In scripting and programming, the concept you're referring to is commonly known as \"event handling\" or \"signal handling.\" This involves two primary components: raising (or emitting) events or signals, and handling (or listening for) these events. This concept is a fundamental part of many programming paradigms, especially in event-driven programming. Here's a formal definition of these concepts:\n",
    "</p><ol><li><p><strong>\n",
    "Event/Signal Emission (Raising an Event/Signal)\n",
    "</strong>:</p><ul><li>\n",
    "This is the process where a program or script generates an event or signal to indicate that something has happened. This \"something\" could be a user action (like a mouse click), a system-level interaction (like receiving data from a network), or any other significant occurrence.\n",
    "</li><li>\n",
    "In programming, an event can be a message, an object, or even a simple value that provides information about the occurred action.\n",
    "</li></ul></li><li><p><strong>\n",
    "Event/Signal Handling (Listening and Responding)\n",
    "</strong>:</p><ul><li>\n",
    "Event handling refers to the mechanism that captures these events or signals and provides a response or action. This is typically done through event listeners or handlers, which are functions or methods designed to be triggered in response to specific events.\n",
    "</li><li>\n",
    "When an event is raised, the event handling system checks for all listeners registered for that event and executes the corresponding handlers.\n",
    "</li></ul></li><li><p><strong>\n",
    "Event Loop\n",
    "</strong>:</p><ul><li>\n",
    "In many event-driven environments, there's an event loop that continuously checks for new events and dispatches them to the appropriate handlers. This loop is the core of the event-driven programming model.\n",
    "</li></ul></li><li><p><strong>\n",
    "Callbacks\n",
    "</strong>:</p><ul><li>\n",
    "A callback is a function passed into another function as an argument, which is then invoked inside the outer function to complete some kind of routine or action. In the context of event handling, callbacks are often used as event handlers.\n",
    "</li></ul></li><li><p><strong>\n",
    "Asynchronous Programming\n",
    "</strong>:</p><ul><li>\n",
    "Event-driven programming is often associated with asynchronous programming, where the flow of the program is determined by events. This is particularly common in GUI applications, web servers, and in handling I/O operations.\n",
    "</li></ul></li><li><p><strong>\n",
    "Examples in Different Languages\n",
    "</strong>:</p><ul><li>\n",
    "In JavaScript, event handling is a core part of the language, especially for web development (e.g., <code>addEventListener</code> method in the DOM).\n",
    "</li><li>\n",
    "In Python, frameworks like Tkinter for GUI development or Flask for web development use event handling.\n",
    "</li><li>\n",
    "In Java, the AWT and Swing frameworks provide extensive support for event handling in GUI applications.\n",
    "</li></ul></li></ol><p>\n",
    "This event-driven model allows for more interactive and responsive programs, especially in environments where waiting for user input or external data is crucial. It also helps in decoupling the event generation from event handling, leading to more modular and maintainable code.\n",
    "</p></div>\"\"\""
   ]
  }
 ],
 "metadata": {
  "language_info": {
   "name": "python"
  },
  "orig_nbformat": 4
 },
 "nbformat": 4,
 "nbformat_minor": 2
}
