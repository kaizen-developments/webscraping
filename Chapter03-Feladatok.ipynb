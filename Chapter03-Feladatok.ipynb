{
 "cells": [
  {
   "cell_type": "code",
   "execution_count": null,
   "metadata": {},
   "outputs": [],
   "source": [
    "# Implement retrieve page contents for a URL, examine that page for another URL, and retrieve that page, ad infinitum.\n",
    "# Variables: retrieve page contents(for a URL), examine that page for another URL(for a page), retrieve that page(for a URL)\n",
    "# Constraints: Use recursion."
   ]
  },
  {
   "cell_type": "code",
   "execution_count": null,
   "metadata": {},
   "outputs": [],
   "source": [
    "#Take a page <x>, and find the fewest number of clicks that will take you to page <y>!"
   ]
  },
  {
   "cell_type": "code",
   "execution_count": null,
   "metadata": {},
   "outputs": [],
   "source": [
    "#Do a directed BFS site crawl applied on a top level-page named 'top_page', where \n",
    "#nodes are pages, and \n",
    "#two pages are neighbours if and only if there is an internal link on the first page pointing to the second page \n",
    "#(the internal links, or the edges have to be found)\n",
    "#for some page!\n",
    "#Store the results of the site crawl in a graph named 'G', and visualize the graph as an output, where the nodes are visualized as document icons, \n"
   ]
  },
  {
   "cell_type": "code",
   "execution_count": null,
   "metadata": {},
   "outputs": [],
   "source": [
    "#Build a scraper that collects the title, the first paragraph of the content, and the link to edit the page!\n",
    "#   Determine how best to do the step above!\n",
    "#       Look at a few pages from the site and determine a pattern!\n",
    "#Facts:\n",
    "#   All titles (on all pages, regardless of their status as an article page, an edit history page, or any other page) have titles under h1 → span tags, and these are the only h1 tags on the page.\n",
    "    #As mentioned before, all body text lives under the div#bodyContent tag. However, if you want to get more specific \n",
    "    #and access just the first paragraph of text, you might be better off\n",
    "    #using div#mw-content-text → p (selecting the first paragraph tag\n",
    "    #only). This is true for all content pages except file pages (for\n",
    "    #example,\n",
    "    #https://en.wikipedia.org/wiki/File:Orbit_of_274301_Wikipedia.svg),\n",
    "    #which do not have sections of content text.\n",
    "#   Edit links occur only on article pages. If they occur, they will be found in the li#ca-edit tag, under li#ca-edit → span → a."
   ]
  },
  {
   "cell_type": "code",
   "execution_count": null,
   "metadata": {},
   "outputs": [],
   "source": [
    "#Build a web crawler capable of enumerating all my events, tasks, at a given day, with all their attributes!"
   ]
  }
 ],
 "metadata": {
  "language_info": {
   "name": "python"
  },
  "orig_nbformat": 4
 },
 "nbformat": 4,
 "nbformat_minor": 2
}
