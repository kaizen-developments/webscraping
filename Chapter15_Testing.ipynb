{
 "cells": [
  {
   "cell_type": "code",
   "execution_count": 1,
   "metadata": {},
   "outputs": [
    {
     "name": "stderr",
     "output_type": "stream",
     "text": [
      "."
     ]
    },
    {
     "name": "stdout",
     "output_type": "stream",
     "text": [
      "Setting up the test\n",
      "Tearing down the test\n"
     ]
    },
    {
     "name": "stderr",
     "output_type": "stream",
     "text": [
      "\n",
      "----------------------------------------------------------------------\n",
      "Ran 1 test in 0.001s\n",
      "\n",
      "OK\n"
     ]
    }
   ],
   "source": [
    "import unittest\n",
    "\n",
    "class TestAddition(unittest.TestCase):\n",
    "    def setUp(self):\n",
    "        print('Setting up the test')\n",
    "\n",
    "    def tearDown(self):\n",
    "        print('Tearing down the test')\n",
    "\n",
    "    def test_twoPlusTwo(self):\n",
    "        total = 2+2\n",
    "        self.assertEqual(4, total);\n",
    "\n",
    "if __name__ == '__main__':\n",
    "    unittest.main(argv=[''], exit=False)"
   ]
  },
  {
   "cell_type": "code",
   "execution_count": 2,
   "metadata": {},
   "outputs": [
    {
     "name": "stderr",
     "output_type": "stream",
     "text": [
      "."
     ]
    },
    {
     "name": "stdout",
     "output_type": "stream",
     "text": [
      "Setting up the test\n",
      "Tearing down the test\n"
     ]
    },
    {
     "name": "stderr",
     "output_type": "stream",
     "text": [
      "..\n",
      "----------------------------------------------------------------------\n",
      "Ran 3 tests in 0.723s\n",
      "\n",
      "OK\n"
     ]
    },
    {
     "name": "stdout",
     "output_type": "stream",
     "text": [
      "Once deleted, variables cannot be recovered. Proceed (y/[n])? y\n"
     ]
    }
   ],
   "source": [
    "from urllib.request import urlopen\n",
    "from bs4 import BeautifulSoup\n",
    "import unittest\n",
    "\n",
    "class TestWikipedia(unittest.TestCase):\n",
    "    bs = None\n",
    "    def setUpClass():\n",
    "        url = 'http://en.wikipedia.org/wiki/Monty_Python'\n",
    "        TestWikipedia.bs = BeautifulSoup(urlopen(url), 'html.parser')\n",
    "\n",
    "    def test_titleText(self):\n",
    "        pageTitle = TestWikipedia.bs.find('h1').get_text()\n",
    "        self.assertEqual('Monty Python', pageTitle);\n",
    "\n",
    "    def test_contentExists(self):\n",
    "        content = TestWikipedia.bs.find('div',{'id':'mw-content-text'})\n",
    "        self.assertIsNotNone(content)\n",
    "\n",
    "\n",
    "if __name__ == '__main__':\n",
    "    unittest.main(argv=[''], exit=False)\n",
    "    %reset\n"
   ]
  },
  {
   "cell_type": "code",
   "execution_count": 16,
   "metadata": {},
   "outputs": [
    {
     "name": "stdout",
     "output_type": "stream",
     "text": [
      "['monty python', 'monty python']\n",
      "Subtitle tags: [<span class=\"mw-headline\" id=\"History\">History</span>, <span class=\"mw-headline\" id=\"Before_Flying_Circus\">Before <i>Flying Circus</i></span>, <span class=\"mw-headline\" id=\"Monty_Python's_Flying_Circus\"><i>Monty Python's Flying Circus</i></span>, <span class=\"mw-headline\" id=\"Development_of_the_series\">Development of the series</span>, <span class=\"mw-headline\" id=\"Style_of_the_show\">Style of the show</span>, <span class=\"mw-headline\" id=\"Introduction_to_North_America_and_the_world\">Introduction to North America and the world</span>, <span class=\"mw-headline\" id=\"Departure_of_Cleese\">Departure of Cleese</span>, <span class=\"mw-headline\" id=\"Life_beyond_the_Flying_Circus\">Life beyond the <i>Flying Circus</i></span>, <span class=\"mw-headline\" id=\"Filmography\">Filmography</span>, <span class=\"mw-headline\" id=\"And_Now_for_Something_Completely_Different_(1971)\"><i>And Now for Something Completely Different</i> (1971)</span>, <span class=\"mw-headline\" id=\"Monty_Python_and_the_Holy_Grail_(1975)\"><i>Monty Python and the Holy Grail</i> (1975)</span>, <span class=\"mw-headline\" id=\"Monty_Python's_Life_of_Brian_(1979)\"><i>Monty Python's Life of Brian</i> (1979)</span>, <span class=\"mw-headline\" id=\"Monty_Python_Live_at_the_Hollywood_Bowl_(1982)\"><i>Monty Python Live at the Hollywood Bowl</i> (1982)</span>, <span class=\"mw-headline\" id=\"Monty_Python's_The_Meaning_of_Life_(1983)\"><i>Monty Python's The Meaning of Life</i> (1983)</span>, <span class=\"mw-headline\" id=\"Secret_Policeman's_Ball_benefit_shows\"><i>Secret Policeman's Ball</i> benefit shows</span>, <span class=\"mw-headline\" id=\"Going_solo\">Going solo</span>, <span class=\"mw-headline\" id=\"After_Python_reunions\">After <i>Python</i> reunions</span>, <span class=\"mw-headline\" id=\"Monty_Python_Live_(Mostly):_One_Down,_Five_to_Go\"><i>Monty Python Live (Mostly): One Down, Five to Go</i></span>, <span class=\"mw-headline\" id=\"Python_members\">Python members</span>, <span class=\"mw-headline\" id=\"Graham_Chapman\">Graham Chapman</span>, <span class=\"mw-headline\" id=\"John_Cleese\">John Cleese</span>, <span class=\"mw-headline\" id=\"Terry_Gilliam\">Terry Gilliam</span>, <span class=\"mw-headline\" id=\"Eric_Idle\">Eric Idle</span>, <span class=\"mw-headline\" id=\"Terry_Jones\">Terry Jones</span>, <span class=\"mw-headline\" id=\"Michael_Palin\">Michael Palin</span>, <span class=\"mw-headline\" id=\"Associate_Pythons\">Associate Pythons</span>, <span class=\"mw-headline\" id=\"Other_contributors\">Other contributors</span>, <span class=\"mw-headline\" id=\"Cultural_influence_and_legacy\">Cultural influence and legacy</span>, <span class=\"mw-headline\" id=\"Comedy_stylists\">Comedy stylists</span>, <span class=\"mw-headline\" id=\"Places\">Places</span>, <span class=\"mw-headline\" id='\"Pythonesque\"'>\"Pythonesque\"</span>, <span class=\"mw-headline\" id=\"TV\">TV</span>, <span class=\"mw-headline\" id=\"Things_named_after_Monty_Python\">Things named after Monty Python</span>, <span class=\"mw-headline\" id=\"World_records\">World records</span>, <span class=\"mw-headline\" id=\"Timeline\">Timeline</span>, <span class=\"mw-headline\" id=\"Media\">Media</span>, <span class=\"mw-headline\" id=\"Television\">Television</span>, <span class=\"mw-headline\" id=\"Films\">Films</span>, <span class=\"mw-headline\" id=\"Albums\">Albums</span>, <span class=\"mw-headline\" id=\"Theatre\">Theatre</span>, <span class=\"mw-headline\" id=\"Books\">Books</span>, <span class=\"mw-headline\" id=\"Games\">Games</span>, <span class=\"mw-headline\" id=\"See_also\">See also</span>, <span class=\"mw-headline\" id=\"Notes\">Notes</span>, <span class=\"mw-headline\" id=\"References\">References</span>, <span class=\"mw-headline\" id=\"Further_reading\">Further reading</span>, <span class=\"mw-headline\" id=\"External_links\">External links</span>]\n",
      "It is True that the website has at least two subtitles.\n",
      "['vikings', 'viking']\n",
      "Subtitle tags: [<span class=\"mw-headline\" id=\"Etymology\">Etymology</span>, <span class=\"mw-headline\" id=\"Original_meaning_and_derivation_of_the_word_Viking\">Original meaning and derivation of the word <i>Viking</i></span>, <span class=\"mw-headline\" id=\"Medieval_usage\">Medieval usage</span>, <span class=\"mw-headline\" id=\"English\">English</span>, <span class=\"mw-headline\" id=\"Scandinavia\">Scandinavia</span>, <span class=\"mw-headline\" id=\"Other_sources\">Other sources</span>, <span class=\"mw-headline\" id=\"Modern_usage\">Modern usage</span>, <span class=\"mw-headline\" id=\"Other_names\">Other names</span>, <span class=\"mw-headline\" id=\"History\">History</span>, <span class=\"mw-headline\" id=\"Viking_Age\">Viking Age</span>, <span class=\"mw-headline\" id=\"Intermixing_with_the_Slavs\">Intermixing with the Slavs</span>, <span class=\"mw-headline\" id=\"Expansion\">Expansion</span>, <span class=\"mw-headline\" id=\"Motives\">Motives</span>, <span class=\"mw-headline\" id=\"Jomsborg\">Jomsborg</span>, <span class=\"mw-headline\" id=\"End_of_the_Viking_Age\">End of the Viking Age</span>, <span class=\"mw-headline\" id=\"Emergence_of_nation-states_and_monetary_economies\">Emergence of nation-states and monetary economies</span>, <span class=\"mw-headline\" id=\"Assimilation_into_Christendom\">Assimilation into Christendom</span>, <span class=\"mw-headline\" id=\"Culture\">Culture</span>, <span class=\"mw-headline\" id=\"Literature_and_language\">Literature and language</span>, <span class=\"mw-headline\" id=\"Runestones\">Runestones</span>, <span class=\"mw-headline\" id=\"Runic_alphabet_usage_in_modern_times\">Runic alphabet usage in modern times</span>, <span class=\"mw-headline\" id=\"Burial_sites\">Burial sites</span>, <span class=\"mw-headline\" id=\"Ships\">Ships</span>, <span class=\"mw-headline\" id=\"Social_structure\">Social structure</span>, <span class=\"mw-headline\" id=\"Status_of_women\">Status of women</span>, <span class=\"mw-headline\" id=\"Appearance\">Appearance</span>, <span class=\"mw-headline\" id=\"Farming_and_cuisine\">Farming and cuisine</span>, <span class=\"mw-headline\" id=\"Sports\">Sports</span>, <span class=\"mw-headline\" id=\"Games_and_entertainment\">Games and entertainment</span>, <span class=\"mw-headline\" id=\"Cultural_assimilation\">Cultural assimilation</span>, <span class=\"mw-headline\" id=\"Weapons_and_warfare\">Weapons and warfare</span>, <span class=\"mw-headline\" id=\"Trade\">Trade</span>, <span class=\"mw-headline\" id=\"Goods\">Goods</span>, <span class=\"mw-headline\" id=\"Legacy\">Legacy</span>, <span class=\"mw-headline\" id=\"Medieval_perceptions\">Medieval perceptions</span>, <span class=\"mw-headline\" id=\"Post-medieval_perceptions\">Post-medieval perceptions</span>, <span class=\"mw-headline\" id=\"In_20th-century_politics\">In 20th-century politics</span>, <span class=\"mw-headline\" id=\"In_modern_popular_culture\">In modern popular culture</span>, <span class=\"mw-headline\" id=\"Experimental_archaeology\">Experimental archaeology</span>, <span class=\"mw-headline\" id=\"Common_misconceptions\">Common misconceptions</span>, <span class=\"mw-headline\" id=\"Horned_helmets\">Horned helmets</span>, <span class=\"mw-headline\" id=\"Barbarity\">Barbarity</span>, <span class=\"mw-headline\" id=\"Use_of_skulls_as_drinking_vessels\">Use of skulls as drinking vessels</span>, <span class=\"mw-headline\" id=\"Genetic_legacy\">Genetic legacy</span>, <span class=\"mw-headline\" id=\"See_also\">See also</span>, <span class=\"mw-headline\" id=\"Notes\">Notes</span>, <span class=\"mw-headline\" id=\"References\">References</span>, <span class=\"mw-headline\" id=\"Bibliography\">Bibliography</span>, <span class=\"mw-headline\" id=\"Further_reading\">Further reading</span>, <span class=\"mw-headline\" id=\"External_links\">External links</span>]\n",
      "It is True that the website has at least two subtitles.\n",
      "The titles don't match.\n",
      "['saladin (barque)', 'saladin (barque)']\n",
      "Subtitle tags: [<span class=\"mw-headline\" id=\"Voyage\">Voyage</span>, <span class=\"mw-headline\" id=\"Trial\">Trial</span>, <span class=\"mw-headline\" id=\"References\">References</span>]\n",
      "It is True that the website has at least two subtitles.\n",
      "['fūma kotarō', 'fūma kotarō']\n",
      "Subtitle tags: [<span class=\"mw-headline\" id=\"The_Fūma_clan_and_Fūma_Kotarō\">The Fūma clan and Fūma Kotarō</span>, <span class=\"mw-headline\" id=\"In_folklore_and_popular_culture\">In folklore and popular culture</span>, <span class=\"mw-headline\" id=\"See_also\">See also</span>, <span class=\"mw-headline\" id=\"References\">References</span>]\n",
      "It is True that the website has at least two subtitles.\n",
      "['pirate utopia', 'pirate utopia']\n",
      "Subtitle tags: [<span class=\"mw-headline\" id=\"On_the_Barbary_Coast\">On the Barbary Coast</span>, <span class=\"mw-headline\" id=\"Connection_to_Islam\">Connection to Islam</span>, <span class=\"mw-headline\" id=\"Libertatia\">Libertatia</span>, <span class=\"mw-headline\" id=\"In_literature_and_popular_culture\">In literature and popular culture</span>, <span class=\"mw-headline\" id=\"See_also\">See also</span>, <span class=\"mw-headline\" id=\"References\">References</span>, <span class=\"mw-headline\" id=\"Further_reading\">Further reading</span>, <span class=\"mw-headline\" id=\"External_links\">External links</span>]\n",
      "It is True that the website has at least two subtitles.\n",
      "['battle of tonkin river', 'battle of tonkin river']\n",
      "Subtitle tags: [<span class=\"mw-headline\" id=\"Background\">Background</span>, <span class=\"mw-headline\" id=\"Piracy_in_China\">Piracy in China</span>, <span class=\"mw-headline\" id=\"Pirates_of_Shap_Ng-tsai\">Pirates of Shap Ng-tsai</span>, <span class=\"mw-headline\" id=\"Expedition_to_Tonkin\">Expedition to Tonkin</span>, <span class=\"mw-headline\" id=\"Battle\">Battle</span>, <span class=\"mw-headline\" id=\"October_20\">October 20</span>, <span class=\"mw-headline\" id=\"October_21\">October 21</span>, <span class=\"mw-headline\" id=\"October_22\">October 22</span>, <span class=\"mw-headline\" id=\"Aftermath\">Aftermath</span>, <span class=\"mw-headline\" id=\"See_also\">See also</span>, <span class=\"mw-headline\" id=\"References\">References</span>]\n",
      "It is True that the website has at least two subtitles.\n",
      "['martin frobisher', 'martin frobisher']\n",
      "Subtitle tags: [<span class=\"mw-headline\" id=\"Early_life\">Early life</span>, <span class=\"mw-headline\" id=\"Privateer_and_pirate\">Privateer and pirate</span>, <span class=\"mw-headline\" id=\"North-west_passage\">North-west passage</span>, <span class=\"mw-headline\" id=\"First_voyage\">First voyage</span>, <span class=\"mw-headline\" id=\"Second_voyage\">Second voyage</span>, <span class=\"mw-headline\" id=\"Third_voyage\">Third voyage</span>, <span class=\"mw-headline\" id=\"Anglo-Spanish_War\">Anglo-Spanish War</span>, <span class=\"mw-headline\" id=\"Spanish_Armada\">Spanish Armada</span>, <span class=\"mw-headline\" id=\"Later_life\">Later life</span>, <span class=\"mw-headline\" id=\"Legacy\">Legacy</span>, <span class=\"mw-headline\" id=\"Britain\">Britain</span>, <span class=\"mw-headline\" id=\"Canada\">Canada</span>, <span class=\"mw-headline\" id=\"In_popular_culture\">In popular culture</span>, <span class=\"mw-headline\" id=\"See_also\">See also</span>, <span class=\"mw-headline\" id=\"Citations\">Citations</span>, <span class=\"mw-headline\" id=\"References\">References</span>, <span class=\"mw-headline\" id=\"Further_reading\">Further reading</span>, <span class=\"mw-headline\" id=\"External_links\">External links</span>]\n",
      "It is True that the website has at least two subtitles.\n",
      "['georgy baydukov', 'georgy baydukov']\n",
      "Subtitle tags: [<span class=\"mw-headline\" id=\"Early_years\">Early years</span>, <span class=\"mw-headline\" id=\"Test_pilot\">Test pilot</span>, <span class=\"mw-headline\" id=\"Ultra-long_distance_flights\">Ultra-long distance flights</span>, <span class=\"mw-headline\" id=\"Second_World_War\">Second World War</span>, <span class=\"mw-headline\" id=\"Post-war_years\">Post-war years</span>, <span class=\"mw-headline\" id=\"Honours_and_awards\">Honours and awards</span>, <span class=\"mw-headline\" id=\"USSR\">USSR</span>, <span class=\"mw-headline\" id=\"Russian_Federation\">Russian Federation</span>, <span class=\"mw-headline\" id=\"Foreign_awards\">Foreign awards</span>, <span class=\"mw-headline\" id=\"See_also\">See also</span>, <span class=\"mw-headline\" id=\"References\">References</span>, <span class=\"mw-headline\" id=\"External_links\">External links</span>]\n",
      "It is True that the website has at least two subtitles.\n"
     ]
    },
    {
     "name": "stderr",
     "output_type": "stream",
     "text": [
      ".\n",
      "----------------------------------------------------------------------\n",
      "Ran 1 test in 8.394s\n",
      "\n",
      "OK\n"
     ]
    },
    {
     "name": "stdout",
     "output_type": "stream",
     "text": [
      "['hms fury (1814)', 'hms fury (1814)']\n",
      "Subtitle tags: [<span class=\"mw-headline\" id=\"Military_service\">Military service</span>, <span class=\"mw-headline\" id=\"Arctic_exploration\">Arctic exploration</span>, <span class=\"mw-headline\" id=\"Legacy\">Legacy</span>, <span class=\"mw-headline\" id=\"References\">References</span>, <span class=\"mw-headline\" id=\"Footnotes\">Footnotes</span>, <span class=\"mw-headline\" id=\"Bibliography\">Bibliography</span>, <span class=\"mw-headline\" id=\"External_links\">External links</span>]\n",
      "It is True that the website has at least two subtitles.\n",
      "Done!\n",
      "Nothing done.\n"
     ]
    }
   ],
   "source": [
    "from urllib.request import urlopen\n",
    "from bs4 import BeautifulSoup\n",
    "import unittest\n",
    "import re\n",
    "import random\n",
    "from urllib.parse import unquote\n",
    "\n",
    "class TestWikipedia(unittest.TestCase):\n",
    "\n",
    "    def test_PageProperties(self):\n",
    "        self.url = 'http://en.wikipedia.org/wiki/Monty_Python'\n",
    "        #Test the first 10 pages we encounter\n",
    "        for i in range(1, 10):\n",
    "            self.bs = BeautifulSoup(urlopen(self.url), 'html.parser')\n",
    "            titles = self.titleMatchesURL()\n",
    "            hasImage = self.hasImage()\n",
    "            print(titles)\n",
    "            hasAtLeastTwoSubTitles = self.hasAtLeastTwoSubTitles()\n",
    "            print(\"It is\",hasAtLeastTwoSubTitles,\"that the website has at least two subtitles.\")\n",
    "            try:\n",
    "                self.assertEqual(titles[0], titles[1])\n",
    "                self.assertTrue(self.contentExists())\n",
    "                self.assertEqual(hasImage, True)\n",
    "            except AssertionError as E:\n",
    "                if titles[0] != titles[1]:\n",
    "                    print(\"The titles don't match.\")\n",
    "                elif self.contentExists() is False:\n",
    "                    print(\"The content does not exist.\")\n",
    "                else:\n",
    "                    print(\"The website has no image.\")\n",
    "            self.url = self.getNextLink()\n",
    "        print('Done!')\n",
    "\n",
    "    def titleMatchesURL(self):\n",
    "        pageTitle = self.bs.find('h1').get_text()\n",
    "        urlTitle = self.url[(self.url.index('/wiki/')+6):]\n",
    "        urlTitle = urlTitle.replace('_', ' ')\n",
    "        urlTitle = unquote(urlTitle)\n",
    "        return [pageTitle.lower(), urlTitle.lower()]\n",
    "\n",
    "    def contentExists(self):\n",
    "        content = self.bs.find('div',{'id':'mw-content-text'})\n",
    "        if content is not None:\n",
    "            return True\n",
    "        return False\n",
    "    \n",
    "    def hasImage(self):\n",
    "        image = {\"name\" : \"img\"}\n",
    "        imageTags = self.bs.find(**image)\n",
    "        if imageTags == None:\n",
    "            return False \n",
    "        else:\n",
    "            return True\n",
    "\n",
    "    def hasAtLeastTwoSubTitles(self):\n",
    "        subtitle = {\"name\" : \"span\", \"attrs\" : {\"class\" : \"mw-headline\"}}\n",
    "        subtitleTags = self.bs.findAll(**subtitle)\n",
    "        print(\"Subtitle tags:\",subtitleTags)\n",
    "        if len(subtitleTags)>=2:\n",
    "            return True\n",
    "        else:\n",
    "            False\n",
    "\n",
    "    def getNextLink(self):\n",
    "        # Returns random link on page, using technique from Chapter 3\n",
    "        links = self.bs.find('div', {'id':'bodyContent'}).find_all('a', href=re.compile('^(/wiki/)((?!:).)*$'))\n",
    "        randomLink = random.SystemRandom().choice(links)\n",
    "        return 'https://wikipedia.org{}'.format(randomLink.attrs['href'])\n",
    "    \n",
    "#Launch unit tests\n",
    "if __name__ == '__main__':\n",
    "    unittest.main(argv=[''], exit=False)\n",
    "    %reset"
   ]
  },
  {
   "cell_type": "code",
   "execution_count": 2,
   "metadata": {},
   "outputs": [
    {
     "ename": "TypeError",
     "evalue": "__init__() got an unexpected keyword argument 'executable_path'",
     "output_type": "error",
     "traceback": [
      "\u001b[0;31m---------------------------------------------------------------------------\u001b[0m",
      "\u001b[0;31mTypeError\u001b[0m                                 Traceback (most recent call last)",
      "Cell \u001b[0;32mIn[2], line 9\u001b[0m\n\u001b[1;32m      6\u001b[0m chrome_options \u001b[39m=\u001b[39m Options()\n\u001b[1;32m      7\u001b[0m chrome_options\u001b[39m.\u001b[39madd_argument(\u001b[39m\"\u001b[39m\u001b[39m--headless\u001b[39m\u001b[39m\"\u001b[39m)\n\u001b[0;32m----> 9\u001b[0m driver \u001b[39m=\u001b[39m webdriver\u001b[39m.\u001b[39;49mChrome(\n\u001b[1;32m     10\u001b[0m     executable_path\u001b[39m=\u001b[39;49m\u001b[39m'\u001b[39;49m\u001b[39mdrivers/chromedriver\u001b[39;49m\u001b[39m'\u001b[39;49m,\n\u001b[1;32m     11\u001b[0m     options\u001b[39m=\u001b[39;49mchrome_options)\n\u001b[1;32m     12\u001b[0m driver\u001b[39m.\u001b[39mget(\u001b[39m'\u001b[39m\u001b[39mhttp://pythonscraping.com/pages/files/form.html\u001b[39m\u001b[39m'\u001b[39m)\n\u001b[1;32m     14\u001b[0m firstnameField \u001b[39m=\u001b[39m driver\u001b[39m.\u001b[39mfind_element_by_name(\u001b[39m'\u001b[39m\u001b[39mfirstname\u001b[39m\u001b[39m'\u001b[39m)\n",
      "\u001b[0;31mTypeError\u001b[0m: __init__() got an unexpected keyword argument 'executable_path'"
     ]
    }
   ],
   "source": [
    "from selenium import webdriver\n",
    "from selenium.webdriver.common.keys import Keys\n",
    "from selenium.webdriver import ActionChains\n",
    "from selenium.webdriver.chrome.options import Options\n",
    "\n",
    "chrome_options = Options()\n",
    "chrome_options.add_argument(\"--headless\")\n",
    "\n",
    "driver = webdriver.Chrome(\n",
    "    executable_path='drivers/chromedriver',\n",
    "    options=chrome_options)\n",
    "driver.get('http://pythonscraping.com/pages/files/form.html')\n",
    "\n",
    "firstnameField = driver.find_element_by_name('firstname')\n",
    "lastnameField = driver.find_element_by_name('lastname')\n",
    "submitButton = driver.find_element_by_id('submit')\n",
    "\n",
    "### METHOD 1 ###\n",
    "firstnameField.send_keys('Ryan')\n",
    "lastnameField.send_keys('Mitchell')\n",
    "submitButton.click()\n",
    "################\n",
    "\n",
    "### METHOD 2 ###\n",
    "#actions = ActionChains(driver).click(firstnameField).send_keys('Ryan').click(lastnameField).send_keys('Mitchell').send_keys(Keys.RETURN)\n",
    "#actions.perform()\n",
    "################\n",
    "\n",
    "print(driver.find_element_by_tag_name('body').text)\n",
    "\n",
    "driver.close()"
   ]
  },
  {
   "cell_type": "code",
   "execution_count": 7,
   "metadata": {
    "scrolled": true
   },
   "outputs": [
    {
     "name": "stderr",
     "output_type": "stream",
     "text": [
      ".\n",
      "----------------------------------------------------------------------\n",
      "Ran 1 test in 1.938s\n",
      "\n",
      "OK\n"
     ]
    },
    {
     "name": "stdout",
     "output_type": "stream",
     "text": [
      "Once deleted, variables cannot be recovered. Proceed (y/[n])? y\n"
     ]
    }
   ],
   "source": [
    "from selenium import webdriver\n",
    "from selenium.webdriver import ActionChains\n",
    "from selenium.webdriver.chrome.options import Options\n",
    "import unittest\n",
    "\n",
    "\n",
    "class TestAddition(unittest.TestCase):\n",
    "    driver = None\n",
    "\n",
    "    def setUp(self):\n",
    "        chrome_options = Options()\n",
    "        chrome_options.add_argument(\"--headless\")\n",
    "        self.driver = webdriver.Chrome(\n",
    "            executable_path='drivers/chromedriver',\n",
    "            options=chrome_options)\n",
    "        url = 'http://pythonscraping.com/pages/javascript/draggableDemo.html'\n",
    "        self.driver.get(url)\n",
    "\n",
    "    def tearDown(self):\n",
    "        self.driver.close()\n",
    "\n",
    "    def test_drag(self):\n",
    "        element = self.driver.find_element_by_id(\"draggable\")\n",
    "        target = self.driver.find_element_by_id(\"div2\")\n",
    "        actions = ActionChains(self.driver)\n",
    "        actions.drag_and_drop(element, target).perform()\n",
    "        self.assertEqual(\"You are definitely not a bot!\",\n",
    "                         self.driver.find_element_by_id(\"message\").text)\n",
    "\n",
    "if __name__ == '__main__':\n",
    "    unittest.main(argv=[''], exit=False)\n",
    "    %reset"
   ]
  },
  {
   "cell_type": "code",
   "execution_count": 6,
   "metadata": {},
   "outputs": [
    {
     "name": "stderr",
     "output_type": "stream",
     "text": [
      ".\n",
      "----------------------------------------------------------------------\n",
      "Ran 1 test in 1.940s\n",
      "\n",
      "OK\n"
     ]
    },
    {
     "name": "stdout",
     "output_type": "stream",
     "text": [
      "Once deleted, variables cannot be recovered. Proceed (y/[n])? y\n"
     ]
    }
   ],
   "source": [
    "from selenium import webdriver\n",
    "from selenium.webdriver import ActionChains\n",
    "from selenium.webdriver.chrome.options import Options\n",
    "import unittest\n",
    "\n",
    "class TestDragAndDrop(unittest.TestCase):\n",
    "    driver = None\n",
    "    def setUp(self):\n",
    "        chrome_options = Options()\n",
    "        chrome_options.add_argument(\"--headless\")\n",
    "        self.driver = webdriver.Chrome(\n",
    "            executable_path='drivers/chromedriver',\n",
    "            options=chrome_options)\n",
    "        url = 'http://pythonscraping.com/pages/javascript/draggableDemo.html'\n",
    "        self.driver.get(url)\n",
    "\n",
    "    def tearDown(self):\n",
    "        self.driver.close()\n",
    "\n",
    "    def test_drag(self):\n",
    "        element = self.driver.find_element_by_id('draggable')\n",
    "        target = self.driver.find_element_by_id('div2')\n",
    "        actions = ActionChains(self.driver)\n",
    "        actions.drag_and_drop(element, target).perform()\n",
    "        self.assertEqual('You are definitely not a bot!',\n",
    "            self.driver.find_element_by_id('message').text)\n",
    "\n",
    "if __name__ == '__main__':\n",
    "    unittest.main(argv=[''], exit=False)\n",
    "    %reset"
   ]
  },
  {
   "cell_type": "code",
   "execution_count": null,
   "metadata": {},
   "outputs": [],
   "source": []
  }
 ],
 "metadata": {
  "kernelspec": {
   "display_name": "Python 3",
   "language": "python",
   "name": "python3"
  },
  "language_info": {
   "codemirror_mode": {
    "name": "ipython",
    "version": 3
   },
   "file_extension": ".py",
   "mimetype": "text/x-python",
   "name": "python",
   "nbconvert_exporter": "python",
   "pygments_lexer": "ipython3",
   "version": "3.8.10"
  }
 },
 "nbformat": 4,
 "nbformat_minor": 2
}
